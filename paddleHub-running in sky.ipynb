{
 "cells": [
  {
   "cell_type": "markdown",
   "metadata": {
    "collapsed": false
   },
   "source": [
    "# 背景\n",
    "\n",
    "AI图像抠图技术的成熟使得对准确度要求一般的视频抠图工作可以由AI算法来快速完成。本项目通过AI抠图与图像合成技术实现图片背景发生转化，同时前景中的人物的像素值保持不变。项目使用的素材文件有两个，一是人在跑步的视频，二是模拟奇幻空间的粒子飞舞视频。素材视频下载自：https://www.motionelements.com/。\n",
    "\n",
    "本项目的学习心得链接：\n",
    "\n",
    "Baidu Aistudio 项目开源链接：\n",
    "\n",
    "Github 项目开源链接：\n"
   ]
  },
  {
   "cell_type": "markdown",
   "metadata": {
    "collapsed": false
   },
   "source": [
    "# 结果\n",
    "项目运行的成果为将人物的奔跑场景更换为指定的粒子飞舞背景。考虑项目运行时间，最终生成的视频为8s时长。素材视频及最终的合成视频动图可查看学习心得链接，完整成果视频可查看[百度网盘链接](https://pan.baidu.com/s/14uMsExiAQZrW-y40fjddBw)，\n",
    "提取码：42dt。"
   ]
  },
  {
   "cell_type": "markdown",
   "metadata": {
    "collapsed": false
   },
   "source": [
    "# 思路\n",
    "视频处理思路为：\n",
    "1. 采用OpenCV库读取视频为各帧图像；\n",
    "2. 借助PaddleHub DeepLabv3+模型(deeplabv3p_xception65_humanseg)实现一键抠图，提取人像；\n",
    "3. 将抠出来的人像与粒子背景根据透明度进行叠加，合成新的图片；\n",
    "4. 将合成图片按照顺序制作成视频。"
   ]
  },
  {
   "cell_type": "markdown",
   "metadata": {
    "collapsed": false
   },
   "source": [
    "# 实现步骤\n",
    "代码的AI抠图部分参考了paddlehub官方文档：https://www.paddlepaddle.org.cn/hubdetail?name=deeplabv3p_xception65_humanseg&en_category=ImageSegmentation。 \n",
    "\n",
    "视频图像处理参考自：https://github.com/hamlinzheng/humanseg_video/blob/master/video_seg.py。"
   ]
  },
  {
   "cell_type": "code",
   "execution_count": 1,
   "metadata": {
    "collapsed": false
   },
   "outputs": [
    {
     "name": "stdout",
     "output_type": "stream",
     "text": [
      "Looking in indexes: https://pypi.tuna.tsinghua.edu.cn/simple\n",
      "Collecting paddlehub==1.8.2\n",
      "\u001b[?25l  Downloading https://pypi.tuna.tsinghua.edu.cn/packages/b8/8d/46b67feae675d0ac106234b3c5806ba6198719fe850d61381c3311cdea6c/paddlehub-1.8.2-py3-none-any.whl (336kB)\n",
      "\u001b[K     |████████████████████████████████| 337kB 10.1MB/s eta 0:00:01\n",
      "\u001b[?25hRequirement already satisfied: flake8 in /opt/conda/envs/python35-paddle120-env/lib/python3.7/site-packages (from paddlehub==1.8.2) (3.8.2)\n",
      "Requirement already satisfied: colorlog in /opt/conda/envs/python35-paddle120-env/lib/python3.7/site-packages (from paddlehub==1.8.2) (4.1.0)\n",
      "Requirement already satisfied: cma>=2.7.0 in /opt/conda/envs/python35-paddle120-env/lib/python3.7/site-packages (from paddlehub==1.8.2) (2.7.0)\n",
      "Requirement already satisfied: yapf==0.26.0 in /opt/conda/envs/python35-paddle120-env/lib/python3.7/site-packages (from paddlehub==1.8.2) (0.26.0)\n",
      "Requirement already satisfied: visualdl in /opt/conda/envs/python35-paddle120-env/lib/python3.7/site-packages (from paddlehub==1.8.2) (2.0.0b8)\n",
      "Requirement already satisfied: sentencepiece in /opt/conda/envs/python35-paddle120-env/lib/python3.7/site-packages (from paddlehub==1.8.2) (0.1.85)\n",
      "Requirement already satisfied: six>=1.10.0 in /opt/conda/envs/python35-paddle120-env/lib/python3.7/site-packages (from paddlehub==1.8.2) (1.15.0)\n",
      "Requirement already satisfied: protobuf>=3.6.0 in /opt/conda/envs/python35-paddle120-env/lib/python3.7/site-packages (from paddlehub==1.8.2) (3.12.2)\n",
      "Requirement already satisfied: flask>=1.1.0 in /opt/conda/envs/python35-paddle120-env/lib/python3.7/site-packages (from paddlehub==1.8.2) (1.1.1)\n",
      "Requirement already satisfied: nltk in /opt/conda/envs/python35-paddle120-env/lib/python3.7/site-packages (from paddlehub==1.8.2) (3.4.5)\n",
      "Requirement already satisfied: pandas; python_version >= \"3\" in /opt/conda/envs/python35-paddle120-env/lib/python3.7/site-packages (from paddlehub==1.8.2) (0.23.4)\n",
      "Requirement already satisfied: pre-commit in /opt/conda/envs/python35-paddle120-env/lib/python3.7/site-packages (from paddlehub==1.8.2) (1.21.0)\n",
      "Requirement already satisfied: gunicorn>=19.10.0; sys_platform != \"win32\" in /opt/conda/envs/python35-paddle120-env/lib/python3.7/site-packages (from paddlehub==1.8.2) (20.0.4)\n",
      "Requirement already satisfied: tqdm in /opt/conda/envs/python35-paddle120-env/lib/python3.7/site-packages (from paddlehub==1.8.2) (4.36.1)\n",
      "Requirement already satisfied: mccabe<0.7.0,>=0.6.0 in /opt/conda/envs/python35-paddle120-env/lib/python3.7/site-packages (from flake8->paddlehub==1.8.2) (0.6.1)\n",
      "Requirement already satisfied: pyflakes<2.3.0,>=2.2.0 in /opt/conda/envs/python35-paddle120-env/lib/python3.7/site-packages (from flake8->paddlehub==1.8.2) (2.2.0)\n",
      "Requirement already satisfied: importlib-metadata; python_version < \"3.8\" in /opt/conda/envs/python35-paddle120-env/lib/python3.7/site-packages (from flake8->paddlehub==1.8.2) (0.23)\n",
      "Requirement already satisfied: pycodestyle<2.7.0,>=2.6.0a1 in /opt/conda/envs/python35-paddle120-env/lib/python3.7/site-packages (from flake8->paddlehub==1.8.2) (2.6.0)\n",
      "Requirement already satisfied: requests in /opt/conda/envs/python35-paddle120-env/lib/python3.7/site-packages (from visualdl->paddlehub==1.8.2) (2.22.0)\n",
      "Requirement already satisfied: opencv-python in /opt/conda/envs/python35-paddle120-env/lib/python3.7/site-packages (from visualdl->paddlehub==1.8.2) (4.1.1.26)\n",
      "Requirement already satisfied: Pillow>=7.0.0 in /opt/conda/envs/python35-paddle120-env/lib/python3.7/site-packages (from visualdl->paddlehub==1.8.2) (7.1.2)\n",
      "Requirement already satisfied: Flask-Babel>=1.0.0 in /opt/conda/envs/python35-paddle120-env/lib/python3.7/site-packages (from visualdl->paddlehub==1.8.2) (1.0.0)\n",
      "Requirement already satisfied: numpy in /opt/conda/envs/python35-paddle120-env/lib/python3.7/site-packages (from visualdl->paddlehub==1.8.2) (1.16.4)\n",
      "Requirement already satisfied: setuptools in /opt/conda/envs/python35-paddle120-env/lib/python3.7/site-packages (from protobuf>=3.6.0->paddlehub==1.8.2) (41.4.0)\n",
      "Requirement already satisfied: Jinja2>=2.10.1 in /opt/conda/envs/python35-paddle120-env/lib/python3.7/site-packages (from flask>=1.1.0->paddlehub==1.8.2) (2.10.1)\n",
      "Requirement already satisfied: click>=5.1 in /opt/conda/envs/python35-paddle120-env/lib/python3.7/site-packages (from flask>=1.1.0->paddlehub==1.8.2) (7.0)\n",
      "Requirement already satisfied: Werkzeug>=0.15 in /opt/conda/envs/python35-paddle120-env/lib/python3.7/site-packages (from flask>=1.1.0->paddlehub==1.8.2) (0.16.0)\n",
      "Requirement already satisfied: itsdangerous>=0.24 in /opt/conda/envs/python35-paddle120-env/lib/python3.7/site-packages (from flask>=1.1.0->paddlehub==1.8.2) (1.1.0)\n",
      "Requirement already satisfied: pytz>=2011k in /opt/conda/envs/python35-paddle120-env/lib/python3.7/site-packages (from pandas; python_version >= \"3\"->paddlehub==1.8.2) (2019.3)\n",
      "Requirement already satisfied: python-dateutil>=2.5.0 in /opt/conda/envs/python35-paddle120-env/lib/python3.7/site-packages (from pandas; python_version >= \"3\"->paddlehub==1.8.2) (2.8.0)\n",
      "Requirement already satisfied: identify>=1.0.0 in /opt/conda/envs/python35-paddle120-env/lib/python3.7/site-packages (from pre-commit->paddlehub==1.8.2) (1.4.10)\n",
      "Requirement already satisfied: pyyaml in /opt/conda/envs/python35-paddle120-env/lib/python3.7/site-packages (from pre-commit->paddlehub==1.8.2) (5.1.2)\n",
      "Requirement already satisfied: cfgv>=2.0.0 in /opt/conda/envs/python35-paddle120-env/lib/python3.7/site-packages (from pre-commit->paddlehub==1.8.2) (2.0.1)\n",
      "Requirement already satisfied: toml in /opt/conda/envs/python35-paddle120-env/lib/python3.7/site-packages (from pre-commit->paddlehub==1.8.2) (0.10.0)\n",
      "Requirement already satisfied: virtualenv>=15.2 in /opt/conda/envs/python35-paddle120-env/lib/python3.7/site-packages (from pre-commit->paddlehub==1.8.2) (16.7.9)\n",
      "Requirement already satisfied: aspy.yaml in /opt/conda/envs/python35-paddle120-env/lib/python3.7/site-packages (from pre-commit->paddlehub==1.8.2) (1.3.0)\n",
      "Requirement already satisfied: nodeenv>=0.11.1 in /opt/conda/envs/python35-paddle120-env/lib/python3.7/site-packages (from pre-commit->paddlehub==1.8.2) (1.3.4)\n",
      "Requirement already satisfied: zipp>=0.5 in /opt/conda/envs/python35-paddle120-env/lib/python3.7/site-packages (from importlib-metadata; python_version < \"3.8\"->flake8->paddlehub==1.8.2) (0.6.0)\n",
      "Requirement already satisfied: urllib3!=1.25.0,!=1.25.1,<1.26,>=1.21.1 in /opt/conda/envs/python35-paddle120-env/lib/python3.7/site-packages (from requests->visualdl->paddlehub==1.8.2) (1.25.6)\n",
      "Requirement already satisfied: idna<2.9,>=2.5 in /opt/conda/envs/python35-paddle120-env/lib/python3.7/site-packages (from requests->visualdl->paddlehub==1.8.2) (2.8)\n",
      "Requirement already satisfied: chardet<3.1.0,>=3.0.2 in /opt/conda/envs/python35-paddle120-env/lib/python3.7/site-packages (from requests->visualdl->paddlehub==1.8.2) (3.0.4)\n",
      "Requirement already satisfied: certifi>=2017.4.17 in /opt/conda/envs/python35-paddle120-env/lib/python3.7/site-packages (from requests->visualdl->paddlehub==1.8.2) (2019.9.11)\n",
      "Requirement already satisfied: Babel>=2.3 in /opt/conda/envs/python35-paddle120-env/lib/python3.7/site-packages (from Flask-Babel>=1.0.0->visualdl->paddlehub==1.8.2) (2.8.0)\n",
      "Requirement already satisfied: MarkupSafe>=0.23 in /opt/conda/envs/python35-paddle120-env/lib/python3.7/site-packages (from Jinja2>=2.10.1->flask>=1.1.0->paddlehub==1.8.2) (1.1.1)\n",
      "Requirement already satisfied: more-itertools in /opt/conda/envs/python35-paddle120-env/lib/python3.7/site-packages (from zipp>=0.5->importlib-metadata; python_version < \"3.8\"->flake8->paddlehub==1.8.2) (7.2.0)\n",
      "Installing collected packages: paddlehub\n",
      "  Found existing installation: paddlehub 1.6.0\n",
      "    Uninstalling paddlehub-1.6.0:\n",
      "      Successfully uninstalled paddlehub-1.6.0\n",
      "Successfully installed paddlehub-1.8.2\n"
     ]
    }
   ],
   "source": [
    "!pip install paddlehub==1.8.2 -i https://pypi.tuna.tsinghua.edu.cn/simple"
   ]
  },
  {
   "cell_type": "code",
   "execution_count": 2,
   "metadata": {
    "collapsed": false
   },
   "outputs": [
    {
     "name": "stderr",
     "output_type": "stream",
     "text": [
      "2020-08-30 08:42:55,910-INFO: font search path ['/opt/conda/envs/python35-paddle120-env/lib/python3.7/site-packages/matplotlib/mpl-data/fonts/ttf', '/opt/conda/envs/python35-paddle120-env/lib/python3.7/site-packages/matplotlib/mpl-data/fonts/afm', '/opt/conda/envs/python35-paddle120-env/lib/python3.7/site-packages/matplotlib/mpl-data/fonts/pdfcorefonts']\n",
      "2020-08-30 08:42:56,341-INFO: generated new fontManager\n"
     ]
    }
   ],
   "source": [
    "# 导入包\n",
    "import os\n",
    "import cv2\n",
    "import numpy as np\n",
    "from PIL import Image\n",
    "import paddlehub as hub\n",
    "import matplotlib.pyplot as plt \n",
    "import matplotlib.image as mpimg "
   ]
  },
  {
   "cell_type": "code",
   "execution_count": 6,
   "metadata": {
    "collapsed": false
   },
   "outputs": [],
   "source": [
    "# 路径设置\n",
    "human_video_path = 'data/data51850/foreground.mp4'  # 带任务的视频路径\n",
    "particle_video_path =  'data/data51850/background.mp4'  # 粒子视频路径 \n",
    "human_frames_path = './human_frames/'  # 带人物的视频各帧图片存储路径\n",
    "particle_frames_path = './back_frames/'  # 粒子视频各帧图片存储路径\n",
    "human_seg_path = './human_seg/'  # 人像抠图的存储路径\n",
    "frame_com_path = './frames_com/'  # 合成后的图片的路径\n",
    "output_video_path = 'output.mp4'  # 输出视频的路径\n",
    "\n",
    "check_exsit_list = [human_frames_path, particle_frames_path, human_seg_path, frame_com_path]\n",
    "for path in check_exsit_list:\n",
    "    if not os.path.exists(path):\n",
    "        os.mkdir(path)"
   ]
  },
  {
   "cell_type": "code",
   "execution_count": 3,
   "metadata": {
    "collapsed": false
   },
   "outputs": [],
   "source": [
    "# 步骤一：从视频中提取各帧图像至文件夹中\n",
    "def CutVideo2Image(video_path, img_path):\n",
    "    cap = cv2.VideoCapture(video_path)\n",
    "    index = 0\n",
    "    while(True):\n",
    "        ret,frame = cap.read() \n",
    "        if ret:\n",
    "            cv2.imwrite(img_path + '{}.jpg'.format(index), frame)\n",
    "            index += 1\n",
    "        else:\n",
    "            break\n",
    "    cap.release()\n",
    "    print('Video cut finish, all %d frame' % index)\n",
    "    return index\n",
    "\n",
    "human_frame_count = CutVideo2Image(human_video_path, human_frames_path)\n",
    "particle_frame_count = CutVideo2Image(particle_video_path, particle_frames_path)\n",
    "print(human_frame_count)\n",
    "print(particle_frame_count)"
   ]
  },
  {
   "cell_type": "markdown",
   "metadata": {
    "collapsed": false
   },
   "source": [
    "#### 跑步视频比粒子视频要短，最终长度以跑步视频为准"
   ]
  },
  {
   "cell_type": "code",
   "execution_count": 11,
   "metadata": {
    "collapsed": false
   },
   "outputs": [
    {
     "name": "stderr",
     "output_type": "stream",
     "text": [
      "\u001b[32m[2020-08-30 08:48:11,753] [    INFO] - Installing deeplabv3p_xception65_humanseg module\u001b[0m\n"
     ]
    },
    {
     "name": "stdout",
     "output_type": "stream",
     "text": [
      "Downloading deeplabv3p_xception65_humanseg\n",
      "[==================================================] 100.00%\n",
      "Uncompress /home/aistudio/.paddlehub/tmp/tmpbfi1tp16/deeplabv3p_xception65_humanseg\n",
      "[==================================================] 100.00%\n"
     ]
    },
    {
     "name": "stderr",
     "output_type": "stream",
     "text": [
      "\u001b[32m[2020-08-30 08:48:31,225] [    INFO] - Successfully installed deeplabv3p_xception65_humanseg-1.1.1\u001b[0m\n"
     ]
    }
   ],
   "source": [
    "# 步骤二：采用paddleHub的图像分割模型实现人像抠图\r\n",
    "# 加载paddlehub的抠图模型\r\n",
    "module = hub.Module(name=\"deeplabv3p_xception65_humanseg\")\r\n",
    "\r\n",
    "# 对所有人像视频进行抠图操作，保存抠图文件\r\n",
    "human_img_path = [os.path.join(human_frames_path, fname) for fname in os.listdir(human_frames_path)]\r\n",
    "results = module.segmentation(paths = human_img_path, use_gpu=False, visualization = True, output_dir=human_seg_path)"
   ]
  },
  {
   "cell_type": "code",
   "execution_count": 32,
   "metadata": {
    "collapsed": false
   },
   "outputs": [
    {
     "name": "stdout",
     "output_type": "stream",
     "text": [
      "当前处理帧数:0\n",
      "当前处理帧数:1\n",
      "当前处理帧数:2\n",
      "当前处理帧数:3\n",
      "当前处理帧数:4\n",
      "当前处理帧数:5\n",
      "当前处理帧数:6\n",
      "当前处理帧数:7\n",
      "当前处理帧数:8\n",
      "当前处理帧数:9\n",
      "当前处理帧数:10\n",
      "当前处理帧数:11\n",
      "当前处理帧数:12\n",
      "当前处理帧数:13\n",
      "当前处理帧数:14\n",
      "当前处理帧数:15\n",
      "当前处理帧数:16\n",
      "当前处理帧数:17\n",
      "当前处理帧数:18\n",
      "当前处理帧数:19\n",
      "当前处理帧数:20\n",
      "当前处理帧数:21\n",
      "当前处理帧数:22\n",
      "当前处理帧数:23\n",
      "当前处理帧数:24\n",
      "当前处理帧数:25\n",
      "当前处理帧数:26\n",
      "当前处理帧数:27\n",
      "当前处理帧数:28\n",
      "当前处理帧数:29\n",
      "当前处理帧数:30\n",
      "当前处理帧数:31\n",
      "当前处理帧数:32\n",
      "当前处理帧数:33\n",
      "当前处理帧数:34\n",
      "当前处理帧数:35\n",
      "当前处理帧数:36\n",
      "当前处理帧数:37\n",
      "当前处理帧数:38\n",
      "当前处理帧数:39\n",
      "当前处理帧数:40\n",
      "当前处理帧数:41\n",
      "当前处理帧数:42\n",
      "当前处理帧数:43\n",
      "当前处理帧数:44\n",
      "当前处理帧数:45\n",
      "当前处理帧数:46\n",
      "当前处理帧数:47\n",
      "当前处理帧数:48\n",
      "当前处理帧数:49\n",
      "当前处理帧数:50\n",
      "当前处理帧数:51\n",
      "当前处理帧数:52\n",
      "当前处理帧数:53\n",
      "当前处理帧数:54\n",
      "当前处理帧数:55\n",
      "当前处理帧数:56\n",
      "当前处理帧数:57\n",
      "当前处理帧数:58\n",
      "当前处理帧数:59\n",
      "当前处理帧数:60\n",
      "当前处理帧数:61\n",
      "当前处理帧数:62\n",
      "当前处理帧数:63\n",
      "当前处理帧数:64\n",
      "当前处理帧数:65\n",
      "当前处理帧数:66\n",
      "当前处理帧数:67\n",
      "当前处理帧数:68\n",
      "当前处理帧数:69\n",
      "当前处理帧数:70\n",
      "当前处理帧数:71\n",
      "当前处理帧数:72\n",
      "当前处理帧数:73\n",
      "当前处理帧数:74\n",
      "当前处理帧数:75\n",
      "当前处理帧数:76\n",
      "当前处理帧数:77\n",
      "当前处理帧数:78\n",
      "当前处理帧数:79\n",
      "当前处理帧数:80\n",
      "当前处理帧数:81\n",
      "当前处理帧数:82\n",
      "当前处理帧数:83\n",
      "当前处理帧数:84\n",
      "当前处理帧数:85\n",
      "当前处理帧数:86\n",
      "当前处理帧数:87\n",
      "当前处理帧数:88\n",
      "当前处理帧数:89\n",
      "当前处理帧数:90\n",
      "当前处理帧数:91\n",
      "当前处理帧数:92\n",
      "当前处理帧数:93\n",
      "当前处理帧数:94\n",
      "当前处理帧数:95\n",
      "当前处理帧数:96\n",
      "当前处理帧数:97\n",
      "当前处理帧数:98\n",
      "当前处理帧数:99\n",
      "当前处理帧数:100\n",
      "当前处理帧数:101\n",
      "当前处理帧数:102\n",
      "当前处理帧数:103\n",
      "当前处理帧数:104\n",
      "当前处理帧数:105\n",
      "当前处理帧数:106\n",
      "当前处理帧数:107\n",
      "当前处理帧数:108\n",
      "当前处理帧数:109\n",
      "当前处理帧数:110\n",
      "当前处理帧数:111\n",
      "当前处理帧数:112\n",
      "当前处理帧数:113\n",
      "当前处理帧数:114\n",
      "当前处理帧数:115\n",
      "当前处理帧数:116\n",
      "当前处理帧数:117\n",
      "当前处理帧数:118\n",
      "当前处理帧数:119\n",
      "当前处理帧数:120\n",
      "当前处理帧数:121\n",
      "当前处理帧数:122\n",
      "当前处理帧数:123\n",
      "当前处理帧数:124\n",
      "当前处理帧数:125\n",
      "当前处理帧数:126\n",
      "当前处理帧数:127\n",
      "当前处理帧数:128\n",
      "当前处理帧数:129\n",
      "当前处理帧数:130\n",
      "当前处理帧数:131\n",
      "当前处理帧数:132\n",
      "当前处理帧数:133\n",
      "当前处理帧数:134\n",
      "当前处理帧数:135\n",
      "当前处理帧数:136\n",
      "当前处理帧数:137\n",
      "当前处理帧数:138\n",
      "当前处理帧数:139\n",
      "当前处理帧数:140\n",
      "当前处理帧数:141\n",
      "当前处理帧数:142\n",
      "当前处理帧数:143\n",
      "当前处理帧数:144\n",
      "当前处理帧数:145\n",
      "当前处理帧数:146\n",
      "当前处理帧数:147\n",
      "当前处理帧数:148\n",
      "当前处理帧数:149\n",
      "当前处理帧数:150\n",
      "当前处理帧数:151\n",
      "当前处理帧数:152\n",
      "当前处理帧数:153\n",
      "当前处理帧数:154\n",
      "当前处理帧数:155\n",
      "当前处理帧数:156\n",
      "当前处理帧数:157\n",
      "当前处理帧数:158\n",
      "当前处理帧数:159\n",
      "当前处理帧数:160\n",
      "当前处理帧数:161\n",
      "当前处理帧数:162\n",
      "当前处理帧数:163\n",
      "当前处理帧数:164\n",
      "当前处理帧数:165\n",
      "当前处理帧数:166\n",
      "当前处理帧数:167\n",
      "当前处理帧数:168\n",
      "当前处理帧数:169\n",
      "当前处理帧数:170\n",
      "当前处理帧数:171\n",
      "当前处理帧数:172\n",
      "当前处理帧数:173\n",
      "当前处理帧数:174\n",
      "当前处理帧数:175\n",
      "当前处理帧数:176\n",
      "当前处理帧数:177\n",
      "当前处理帧数:178\n",
      "当前处理帧数:179\n",
      "当前处理帧数:180\n",
      "当前处理帧数:181\n",
      "当前处理帧数:182\n",
      "当前处理帧数:183\n",
      "当前处理帧数:184\n",
      "当前处理帧数:185\n",
      "当前处理帧数:186\n",
      "当前处理帧数:187\n",
      "当前处理帧数:188\n",
      "当前处理帧数:189\n",
      "当前处理帧数:190\n",
      "当前处理帧数:191\n",
      "当前处理帧数:192\n",
      "当前处理帧数:193\n",
      "当前处理帧数:194\n",
      "当前处理帧数:195\n",
      "当前处理帧数:196\n",
      "当前处理帧数:197\n",
      "当前处理帧数:198\n",
      "当前处理帧数:199\n",
      "当前处理帧数:200\n",
      "当前处理帧数:201\n",
      "当前处理帧数:202\n",
      "当前处理帧数:203\n",
      "当前处理帧数:204\n",
      "当前处理帧数:205\n",
      "当前处理帧数:206\n",
      "当前处理帧数:207\n",
      "当前处理帧数:208\n",
      "当前处理帧数:209\n",
      "当前处理帧数:210\n",
      "当前处理帧数:211\n",
      "当前处理帧数:212\n",
      "当前处理帧数:213\n",
      "当前处理帧数:214\n",
      "当前处理帧数:215\n",
      "当前处理帧数:216\n",
      "当前处理帧数:217\n",
      "当前处理帧数:218\n",
      "当前处理帧数:219\n",
      "当前处理帧数:220\n",
      "当前处理帧数:221\n",
      "当前处理帧数:222\n",
      "当前处理帧数:223\n",
      "当前处理帧数:224\n",
      "当前处理帧数:225\n",
      "当前处理帧数:226\n",
      "当前处理帧数:227\n",
      "当前处理帧数:228\n",
      "当前处理帧数:229\n",
      "当前处理帧数:230\n",
      "当前处理帧数:231\n",
      "当前处理帧数:232\n",
      "当前处理帧数:233\n",
      "当前处理帧数:234\n",
      "当前处理帧数:235\n",
      "当前处理帧数:236\n",
      "当前处理帧数:237\n",
      "当前处理帧数:238\n",
      "当前处理帧数:239\n"
     ]
    }
   ],
   "source": [
    "# 步骤三：将人像抠图与粒子图进行合成\r\n",
    "for frame_id in range(human_frame_count):\r\n",
    "    print(\"当前处理帧数:{}\".format(frame_id))\r\n",
    "    human_seg_frame_path = os.path.join(human_seg_path, \"{}.png\".format(frame_id))\r\n",
    "    particle_frame_path = os.path.join(particle_frames_path, \"{}.jpg\".format(frame_id))\r\n",
    "    combine_frame_path = os.path.join(frame_com_path, \"{}.png\".format(frame_id))\r\n",
    "\r\n",
    "    fore_img = cv2.imread(human_seg_frame_path, -1)\r\n",
    "    base_img = cv2.imread(particle_frame_path)\r\n",
    "\r\n",
    "    fore_channels = cv2.split(fore_img)\r\n",
    "    base_channels = cv2.split(base_img)\r\n",
    "    b, g, r, a = cv2.split(fore_img)\r\n",
    "    for i in range(3):\r\n",
    "        base_channels[i][:,:] = base_channels[i][:,:]*(255.0-a)/255\r\n",
    "        base_channels[i][:,:] += np.array(fore_channels[i]*(a/255), dtype=np.uint8)\r\n",
    "    r = cv2.imwrite(combine_frame_path, cv2.merge(base_channels))\r\n",
    "    "
   ]
  },
  {
   "cell_type": "code",
   "execution_count": 33,
   "metadata": {
    "collapsed": false
   },
   "outputs": [],
   "source": [
    "# 步骤四：将图像合成为视频\r\n",
    "def CombVideo(in_path, out_path, size):\r\n",
    "    fourcc = cv2.VideoWriter_fourcc(*'mp4v')\r\n",
    "    out = cv2.VideoWriter(out_path,fourcc, 30.0, size)\r\n",
    "    files = os.listdir(in_path)\r\n",
    "\r\n",
    "    for i in range(len(files)):\r\n",
    "        img = cv2.imread(in_path + '%d.png' % i)\r\n",
    "        out.write(img)#保存帧\r\n",
    "    out.release()\r\n",
    "\r\n",
    "CombVideo(frame_com_path, output_video_path, (1920, 1080))"
   ]
  },
  {
   "cell_type": "code",
   "execution_count": null,
   "metadata": {
    "collapsed": false
   },
   "outputs": [],
   "source": []
  }
 ],
 "metadata": {
  "kernelspec": {
   "display_name": "PaddlePaddle 1.8.0 (Python 3.5)",
   "language": "python",
   "name": "py35-paddle1.2.0"
  },
  "language_info": {
   "codemirror_mode": {
    "name": "ipython",
    "version": 3
   },
   "file_extension": ".py",
   "mimetype": "text/x-python",
   "name": "python",
   "nbconvert_exporter": "python",
   "pygments_lexer": "ipython3",
   "version": "3.7.4"
  }
 },
 "nbformat": 4,
 "nbformat_minor": 1
}
